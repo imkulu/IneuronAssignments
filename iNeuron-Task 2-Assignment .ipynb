{
 "cells": [
  {
   "cell_type": "markdown",
   "metadata": {},
   "source": [
    "# Task 2:\n",
    "\n",
    "\n",
    "1.Write a program which accepts a sequence of comma-separated numbers from console and generate a list.\n"
   ]
  },
  {
   "cell_type": "code",
   "execution_count": 1,
   "metadata": {},
   "outputs": [
    {
     "name": "stdout",
     "output_type": "stream",
     "text": [
      "Please sequence of comma-separated numbers from console 12,34,21\n",
      "\n",
      "Generated List is >>> ['12', '34', '21']\n"
     ]
    }
   ],
   "source": [
    "input_string=input(\"Please sequence of comma-separated numbers from console \")\n",
    "my_list=list(input_string.split(\",\"))\n",
    "print(\"\\nGenerated List is >>>\",my_list)"
   ]
  },
  {
   "cell_type": "markdown",
   "metadata": {},
   "source": [
    "# Task 2.\n",
    "\n",
    "Create the below pattern using nested for loop in Python.\n",
    "\n",
    "\n",
    "\n",
    "*\n",
    "* *\n",
    "* * *\n",
    "* * * *\n",
    "* * * * *\n",
    "* * * *\n",
    "* * *\n",
    "* *\n",
    "*\n",
    "\n"
   ]
  },
  {
   "cell_type": "code",
   "execution_count": 2,
   "metadata": {},
   "outputs": [
    {
     "name": "stdout",
     "output_type": "stream",
     "text": [
      "*\n",
      "* *\n",
      "* * *\n",
      "* * * *\n",
      "* * * * *\n",
      "* * * *\n",
      "* * *\n",
      "* *\n",
      "*\n"
     ]
    }
   ],
   "source": [
    " n=\"*\"\n",
    "for i in range(1,6):\n",
    "    print(\" \".join(list(i*n)) )\n",
    "for j in range(4,0,-1):\n",
    "    print(\" \".join(list(j*n)),end=\"\\n\")\n"
   ]
  },
  {
   "cell_type": "markdown",
   "metadata": {},
   "source": [
    "# Task 3.\n",
    "\n",
    "Write a Python program to reverse a word after accepting the input from the user.\n",
    "\n",
    "Sample Output: \n",
    "Input word: AcadGild\n",
    "Output: dilGdacA\n"
   ]
  },
  {
   "cell_type": "code",
   "execution_count": 3,
   "metadata": {},
   "outputs": [
    {
     "name": "stdout",
     "output_type": "stream",
     "text": [
      "Please enter the string to be reversed::::Name\n",
      "\n",
      "The original string is :: Name\n",
      "\n",
      "The reversed string is :: emaN\n"
     ]
    }
   ],
   "source": [
    "inString=input(\"Please enter the string to be reversed::::\")\n",
    "print(\"\\nThe original string is ::\",inString)\n",
    "print(\"\\nThe reversed string is ::\",inString[::-1])\n"
   ]
  },
  {
   "cell_type": "markdown",
   "metadata": {},
   "source": [
    "# Task 4.\n",
    "\n",
    "Write a Python Program to print the given string in the format specified in the sample output.\n",
    "\n",
    "WE, THE PEOPLE OF INDIA, having solemnly resolved to constitute India into a SOVEREIGN, SOCIALIST, SECULAR, DEMOCRATIC REPUBLIC and to secure to all\n",
    "its citizens\n",
    "\n",
    "Sample Output:\n",
    "\n",
    "WE, THE PEOPLE OF INDIA,\n",
    "having solemnly resolved to constitute India into a SOVEREIGN, !\n",
    "SOCIALIST, SECULAR, DEMOCRATIC REPUBLIC\n",
    "and to secure to all its citizens\n",
    "\n",
    "\n",
    "\n",
    "\n",
    "\n"
   ]
  },
  {
   "cell_type": "code",
   "execution_count": 4,
   "metadata": {},
   "outputs": [
    {
     "name": "stdout",
     "output_type": "stream",
     "text": [
      "WE, THE PEOPLE OF INDIA,\n",
      "      having solemnly resolved to constitute India into a SOVEREIGN, !\n",
      "\t      SOCIALIST, SECULAR, DEMOCRATIC REPUBLIC\n",
      "\t        and to secure to all its citizens\n"
     ]
    }
   ],
   "source": [
    "inputString=\"\"\"\n",
    "WE, THE PEOPLE OF INDIA,having solemnly resolved to constitute India into a SOVEREIGN, !SOCIALIST, SECULAR, DEMOCRATIC REPUBLIC\n",
    "and to secure to all its citizens\n",
    "\"\"\"\n",
    "# print(inputString.index(\"having solemnly resolved to constitute India into a SOVEREIGN, !\"))\n",
    "# print(inputString.index(\"SOCIALIST, SECULAR, DEMOCRATIC REPUBLIC\"))\n",
    "# print(inputString.index(\"and to secure to all its citizens\"))\n",
    "print(inputString[0:25].strip(\"\\n\"))\n",
    "print(\"     \",inputString[25:89].strip(\"\\n\"))\n",
    "print(\"\\t\",\"    \",inputString[89:129].strip(\"\\n\"))\n",
    "print(\"\\t\",\"      \",inputString[129:].strip(\"\\n\"))"
   ]
  },
  {
   "cell_type": "code",
   "execution_count": null,
   "metadata": {},
   "outputs": [],
   "source": []
  }
 ],
 "metadata": {
  "kernelspec": {
   "display_name": "Python 3",
   "language": "python",
   "name": "python3"
  },
  "language_info": {
   "codemirror_mode": {
    "name": "ipython",
    "version": 3
   },
   "file_extension": ".py",
   "mimetype": "text/x-python",
   "name": "python",
   "nbconvert_exporter": "python",
   "pygments_lexer": "ipython3",
   "version": "3.7.3"
  }
 },
 "nbformat": 4,
 "nbformat_minor": 2
}
