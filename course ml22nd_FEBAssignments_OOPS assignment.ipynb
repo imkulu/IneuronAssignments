{
 "cells": [
  {
   "cell_type": "markdown",
   "metadata": {},
   "source": [
    "# course ml22nd_FEBAssignments_OOPS assignment"
   ]
  },
  {
   "cell_type": "code",
   "execution_count": 2,
   "metadata": {},
   "outputs": [
    {
     "name": "stdout",
     "output_type": "stream",
     "text": [
      "dervived Child class \n",
      "First Parent,Second Parent\n"
     ]
    }
   ],
   "source": [
    "class Parent1:\n",
    "    def __init__(self):\n",
    "        self.name1=\"First Parent\"\n",
    "    def test1(self):\n",
    "        print(self.name1)\n",
    "class Parent2:\n",
    "    def __init__(self):\n",
    "        self.name2=\"Second Parent\"\n",
    "    def test2(self):\n",
    "        print(self.name2)\n",
    "class child1:\n",
    "    def __init__(self):\n",
    "        Parent1.__init__(self)\n",
    "        Parent2.__init__(self)\n",
    "        print(\"dervived Child class \")\n",
    "    def test3(self):\n",
    "        print(f\"{self.name1},{self.name2}\")\n",
    "c1=child1()\n",
    "c1.test3()"
   ]
  }
 ],
 "metadata": {
  "kernelspec": {
   "display_name": "Python 3",
   "language": "python",
   "name": "python3"
  },
  "language_info": {
   "codemirror_mode": {
    "name": "ipython",
    "version": 3
   },
   "file_extension": ".py",
   "mimetype": "text/x-python",
   "name": "python",
   "nbconvert_exporter": "python",
   "pygments_lexer": "ipython3",
   "version": "3.7.3"
  }
 },
 "nbformat": 4,
 "nbformat_minor": 2
}
