{
 "cells": [
  {
   "cell_type": "markdown",
   "metadata": {},
   "source": [
    "# Task 1 1.1:\n",
    "\n",
    "\n",
    "Write a Python Program to implement your own myreduce() function which works exactly like Python's built-in function reduce()\n"
   ]
  },
  {
   "cell_type": "code",
   "execution_count": 1,
   "metadata": {},
   "outputs": [
    {
     "name": "stdout",
     "output_type": "stream",
     "text": [
      "How many numbers  user will to add to list ::3\n",
      "Enter the 1 string::12\n",
      "Enter the 2 string::234\n",
      "Enter the 3 string::9\n",
      "\n",
      "The list added by user is ['12', '234', '9']\n",
      "\n",
      "The sum of all element inside the list = 255\n"
     ]
    }
   ],
   "source": [
    "#Write a Python Program to implement your own myreduce() function which works exactly like Python's \n",
    "#built-in function reduce()\n",
    "# [10,20,30,40]  sum of numbers\n",
    "\n",
    "def myreduce(my_list2):\n",
    "    sum=0\n",
    "    for i in my_list2:\n",
    "        sum=sum+int(i)\n",
    "    return sum\n",
    "\n",
    "count=int(input(\"How many numbers  user will to add to list ::\"))\n",
    "my_list1=[] \n",
    "for i in range(count):\n",
    "    userinput=input(\"Enter the \"+str(i+1)+ \" string::\")\n",
    "    my_list1.append(userinput)\n",
    "print(f\"\\nThe list added by user is {my_list1}\\n\")\n",
    "print( f\"The sum of all element inside the list = {myreduce(my_list1)}\" )\n",
    "\n"
   ]
  },
  {
   "cell_type": "markdown",
   "metadata": {},
   "source": [
    "# Task 1 1.2\n",
    "\n",
    "Write a Python program to implement your own myfilter() function which works exactly like Python's built-in function filter()\n"
   ]
  },
  {
   "cell_type": "code",
   "execution_count": 2,
   "metadata": {},
   "outputs": [
    {
     "name": "stdout",
     "output_type": "stream",
     "text": [
      "How many numbers  user will to add to list ::3\n",
      "Enter the 1 number::12\n",
      "Enter the 2 number::2\n",
      "Enter the 3 number::213\n",
      "\n",
      "The list added by user is ['12', '2', '213']\n",
      "\n",
      "The even numbers inside the list are ['12', '2']\n"
     ]
    }
   ],
   "source": [
    "# '''\n",
    "# Write a Python program to implement your own myfilter() \n",
    "# function which works exactly like Python's built-in function filter()\n",
    "\n",
    "\n",
    "\n",
    "def myfilter(my_list21):\n",
    "    mylist34=[]\n",
    "    for i in my_list21:\n",
    "        if int(i)%2==0:\n",
    "            mylist34.append(str(i))\n",
    "    return mylist34\n",
    "\n",
    "count=int(input(\"How many numbers  user will to add to list ::\"))\n",
    "my_list11=[] \n",
    "for i in range(count):\n",
    "    userinput=input(\"Enter the \"+str(i+1)+ \" number::\")\n",
    "    my_list11.append(userinput)\n",
    "print(f\"\\nThe list added by user is {my_list11}\\n\")\n",
    "print( f\"The even numbers inside the list are {myfilter(my_list11)}\" )"
   ]
  },
  {
   "cell_type": "markdown",
   "metadata": {},
   "source": [
    "# Task 1 2\n",
    "Implement List comprehensions to produce the following lists.\n",
    "\n",
    "Write List comprehensions to produce the following Lists\n",
    "\n",
    "['A', 'C', 'A', 'D', 'G', 'I', ’L’, ‘ D’]\n",
    "['x', 'xx', 'xxx', 'xxxx', 'y', 'yy', 'yyy', 'yyyy', 'z', 'zz', 'zzz', 'zzzz']\n",
    "\n",
    "['x', 'y', 'z', 'xx', 'yy', 'zz', 'xx', 'yy', 'zz', 'xxxx', 'yyyy', 'zzzz']\n",
    " \n",
    "[[2], [3], [4], [3], [4], [5], [4], [5], [6]]\n",
    "\n",
    "[[2, 3, 4, 5], [3, 4, 5, 6], [4, 5, 6, 7], [5, 6, 7, 8]]\n",
    "\n",
    "[(1, 1), (2, 1), (3, 1), (1, 2), (2, 2), (3, 2), (1, 3), (2, 3), (3, 3)]"
   ]
  },
  {
   "cell_type": "code",
   "execution_count": 3,
   "metadata": {
    "scrolled": true
   },
   "outputs": [
    {
     "name": "stdout",
     "output_type": "stream",
     "text": [
      "['A', 'C', 'A', 'D', 'G', 'I', 'L', 'D']\n",
      "['X', 'XX', 'XXX', 'XXXX', 'Y', 'YY', 'YYY', 'YYYY', 'Z', 'ZZ', 'ZZZ', 'ZZZZ']\n",
      "['X', 'Y', 'Z', 'XX', 'YY', 'ZZ', 'XXX', 'YYY', 'ZZZ', 'XXXX', 'YYYY', 'ZZZZ']\n",
      "[[2], [3], [4], [3], [4], [5], [4], [5], [6]]\n",
      "[[2, 3, 4, 5], [3, 4, 5, 6], [4, 5, 6, 7], [5, 6, 7, 8]]\n",
      "[[(1, 1), (2, 1), (3, 1)], [(1, 2), (2, 2), (3, 2)], [(1, 3), (2, 3), (3, 3)]]\n"
     ]
    }
   ],
   "source": [
    "# ['A', 'C', 'A', 'D', 'G', 'I', ’L’, ‘ D’]\n",
    "print([i for i in \"ACADGILD\"])\n",
    "\n",
    "############################################################\n",
    "# ['x', 'xx', 'xxx', 'xxxx', 'y', 'yy', 'yyy', 'yyyy', 'z', 'zz', 'zzz', 'zzzz']\n",
    "tempstring=\"XYZ\"\n",
    "templ=[]\n",
    "res=\"\"\n",
    "[templ.append(each*i1)for each in tempstring for i1 in range(1,5)]\n",
    "print((templ))\n",
    "\n",
    "##################################################################\n",
    "#['x', 'y', 'z', 'xx', 'yy', 'zz', 'xx', 'yy', 'zz', 'xxxx', 'yyyy', 'zzzz']\n",
    "\n",
    "tempstring1=\"XYZ\"\n",
    "templ_1=[]\n",
    "res_1=\"\"\n",
    "[templ_1.append(i2*each1) for each1 in range(1,5) for i2 in tempstring1]\n",
    "print((templ_1))\n",
    "\n",
    "#################################################\n",
    "#[[2], [3], [4], [3], [4], [5], [4], [5], [6]]\n",
    "tup=(\"234\",\"345\",\"456\")\n",
    "li2=[]\n",
    "[li2.append([int(tr)]) for each2 in tup for tr in list(each2)]\n",
    "print(li2)\n",
    "#######################\n",
    "# [[2, 3, 4, 5], [3, 4, 5, 6], [4, 5, 6, 7], [5, 6, 7, 8]]\n",
    "\n",
    "tempouter=[]\n",
    "tempinner=[]\n",
    "for outer in range(2,6):\n",
    "    tempinner=[]\n",
    "    for inner in range(outer,outer+4):\n",
    "        tempinner.append(inner)\n",
    "    tempouter.append(tempinner)\n",
    "print(tempouter)\n",
    "\n",
    "#################\n",
    "# [(1, 1), (2, 1), (3, 1), (1, 2), (2, 2), (3, 2), (1, 3), (2, 3), (3, 3)]\n",
    "tempouter1=[]\n",
    "tempinner1=[]\n",
    "for ouloop in range(1,4):\n",
    "    tempinner1=[]\n",
    "    for inloop in range(1,4):\n",
    "        tempinner1.append((inloop,ouloop))\n",
    "    tempouter1.append(tempinner1)\n",
    "print(tempouter1)"
   ]
  },
  {
   "cell_type": "markdown",
   "metadata": {},
   "source": [
    "# Task 1 .. 3\n",
    "3 Implement a function longestWord() that takes a list of words and returns the longest one."
   ]
  },
  {
   "cell_type": "code",
   "execution_count": 4,
   "metadata": {},
   "outputs": [
    {
     "name": "stdout",
     "output_type": "stream",
     "text": [
      "How many strings user will to add to list ::4\n",
      "Enter the 1 string::a\n",
      "Enter the 2 string::cde\n",
      "Enter the 3 string::fg\n",
      "Enter the 4 string::redr\n",
      "\n",
      "The list added by user is ['a', 'cde', 'fg', 'redr']\n",
      "\n",
      "The longest word is: redr \n",
      "The longest word count: 4\n"
     ]
    }
   ],
   "source": [
    "\n",
    "# Implement a function longestWord() that takes a list of words and returns the longest one.\n",
    "\n",
    "def longestWord(FunList):\n",
    "    largestWord=\"\"\n",
    "    larLength=0\n",
    "    for iword in FunList:\n",
    "        if len(iword)>=larLength:\n",
    "            largestWord=iword\n",
    "            larLength=len(iword)\n",
    "    return largestWord,larLength              \n",
    "  \n",
    "\n",
    "# How many strings user need to add to list\n",
    "count=int(input(\"How many strings user will to add to list ::\"))\n",
    "my_list=[] \n",
    "for i in range(count):\n",
    "    userinput=input(\"Enter the \"+str(i+1)+ \" string::\")\n",
    "    my_list.append(userinput)\n",
    "print(f\"\\nThe list added by user is {my_list}\\n\")\n",
    "print(f\"The longest word is: {longestWord(my_list)[0]} \")\n",
    "print(f\"The longest word count: {longestWord(my_list)[1]}\")\n",
    "\n",
    "    \n",
    "    "
   ]
  },
  {
   "cell_type": "markdown",
   "metadata": {},
   "source": [
    "# Task 2:1.1\n",
    "\n",
    "\n",
    "1.1\n",
    "\n",
    "Write a Python Program(with class concepts) to find the area of the triangle using the below formula.\n",
    "\n",
    "area = (s*(s-a)*(s-b)*(s-c)) ** 0.5\n",
    "\n",
    "Function to take the length of the sides of triangle from user should be defined in the parent class and function to calculate the area should be defined in subclass.\n"
   ]
  },
  {
   "cell_type": "code",
   "execution_count": 5,
   "metadata": {},
   "outputs": [
    {
     "name": "stdout",
     "output_type": "stream",
     "text": [
      "Enter the 1 side of the triange::2\n",
      "Enter the 2 side of the triange::3\n",
      "Enter the 3 side of the triange::4\n",
      "\n",
      "The sides of the triange input  by user is ['2', '3', '4']\n",
      "\n",
      "The sides of Triange are 2,3,4\n",
      "The area of the triange is 2.9047375096555625\n"
     ]
    }
   ],
   "source": [
    "class parentClass:\n",
    "    def __init__(self,a,b,c):\n",
    "        self.a=a\n",
    "        self.b=b\n",
    "        self.c=c\n",
    "        print(f\"The sides of Triange are {self.a},{self.b},{self.c}\")   \n",
    "       \n",
    "class childClass:\n",
    "    def __init__(self,a,b,c):        \n",
    "        parentClass.__init__(self,a,b,c)\n",
    "    def printarea(self):\n",
    "        s=(self.a+self.b+self.c)/2\n",
    "        print(f\"The area of the triange is {(s*(s-self.a)*(s-self.b)*(s-self.c)) ** 0.5}\")\n",
    "        \n",
    "my_list112=[] \n",
    "for i in range(3):\n",
    "    userinput=input(\"Enter the \"+str(i+1)+ \" side of the triange::\")\n",
    "    my_list112.append(userinput)\n",
    "print(f\"\\nThe sides of the triange input  by user is {my_list112}\\n\")\n",
    "objc=childClass(int(my_list112[0]),int(my_list112[1]),int(my_list112[2]))\n",
    "objc.printarea()\n",
    "\n",
    "        \n",
    "    "
   ]
  },
  {
   "cell_type": "markdown",
   "metadata": {},
   "source": [
    "# Task 2 1.2\n",
    "\n",
    "Write a function filter_long_words() that takes a list of words and an integer n and returns the list of words that are longer than n.\n"
   ]
  },
  {
   "cell_type": "code",
   "execution_count": 6,
   "metadata": {},
   "outputs": [
    {
     "name": "stdout",
     "output_type": "stream",
     "text": [
      "Please enter the number which will be compared against the length of words=4\n",
      "How many strings user will to add to list ::5\n",
      "Enter the 1 string::a\n",
      "Enter the 2 string::dert\n",
      "Enter the 3 string::de\n",
      "Enter the 4 string::dew\n",
      "Enter the 5 string::dfrtrew\n",
      "\n",
      "The list added by user is ['a', 'dert', 'de', 'dew', 'dfrtrew']\n",
      "\n",
      "the list of word which is greater than 4 are ['dfrtrew']\n"
     ]
    }
   ],
   "source": [
    "def filter_long_words(my_list3456,com):\n",
    "    blankList=[]\n",
    "    for eachword in my_list3456:\n",
    "        if (len(eachword)>com):\n",
    "            blankList.append(eachword)\n",
    "    return blankList           \n",
    "\n",
    "\n",
    "\n",
    "count345=int(input(\"Please enter the number which will be compared against the length of words=\"))\n",
    "# How many strings user need to add to list\n",
    "count34=int(input(\"How many strings user will to add to list ::\"))\n",
    "my_list345=[] \n",
    "for i in range(count34):\n",
    "    userinput=input(\"Enter the \"+str(i+1)+ \" string::\")\n",
    "    my_list345.append(userinput)\n",
    "print(f\"\\nThe list added by user is {my_list345}\\n\")\n",
    "\n",
    "\n",
    "print(f\"the list of word which is greater than {count345} are {filter_long_words(my_list345,count345)}\")\n",
    "\n"
   ]
  },
  {
   "cell_type": "markdown",
   "metadata": {},
   "source": [
    "# \t2.1\n",
    "\n",
    "Write a Python program using function concept that maps list of words into a list of integers representing the lengths of the corresponding words.\n"
   ]
  },
  {
   "cell_type": "code",
   "execution_count": 9,
   "metadata": {},
   "outputs": [
    {
     "name": "stdout",
     "output_type": "stream",
     "text": [
      "How many strings user will to add to list ::5\n",
      "Enter the 1 string::This\n",
      "Enter the 2 string::is\n",
      "Enter the 3 string::a\n",
      "Enter the 4 string::Gooood\n",
      "Enter the 5 string::Boy for sure\n",
      "\n",
      "The list added by user is ['This', 'is', 'a', 'Gooood', 'Boy for sure']\n",
      "\n",
      " The length of each word inside the list  ['This', 'is', 'a', 'Gooood', 'Boy for sure'] is [4, 2, 1, 6, 12]\n"
     ]
    }
   ],
   "source": [
    "def Map_long_words(my_list34567):\n",
    "    blankList12=[]\n",
    "    for eachword1 in my_list34567:\n",
    "        if (len(eachword1)>0):\n",
    "            blankList12.append(len(eachword1))\n",
    "    return blankList12           \n",
    "\n",
    "\n",
    "\n",
    "# How many strings user need to add to list\n",
    "count3467=int(input(\"How many strings user will to add to list ::\"))\n",
    "my_list3455=[] \n",
    "for i in range(count3467):\n",
    "    userinput12=input(\"Enter the \"+str(i+1)+ \" string::\")\n",
    "    my_list3455.append(userinput12)\n",
    "print(f\"\\nThe list added by user is {my_list3455}\\n\")\n",
    "print(f\" The length of each word inside the list  {my_list3455} is {Map_long_words(my_list3455)}\")\n",
    "\n",
    "\n"
   ]
  },
  {
   "cell_type": "markdown",
   "metadata": {},
   "source": [
    "# 2.2\n",
    "\n",
    "Write a Python function which takes a character (i.e. a string of length 1) and returns True if it is a vowel, False otherwise.\n"
   ]
  },
  {
   "cell_type": "code",
   "execution_count": 8,
   "metadata": {},
   "outputs": [
    {
     "name": "stdout",
     "output_type": "stream",
     "text": [
      "How many characters user will to add to list ::3\n",
      "Enter the 1 character::red\n",
      "Enter the 2 character::fredswer\n",
      "Enter the 3 character::r\n",
      "\n",
      "The list of characters added by user is ['red', 'fredswer', 'r']\n",
      "\n",
      " The vowel  inside the list is ['False', 'False', 'False']\n"
     ]
    }
   ],
   "source": [
    "def Find_Vowels(my_list34567):\n",
    "    blankList123=[]\n",
    "    for ch in my_list34567:\n",
    "        if (ch=='A' or ch=='a' or ch=='E' or ch =='e' or ch=='I'  or ch=='i' or ch=='O' or ch=='o' or ch=='U' or ch=='u'):\n",
    "            blankList123.append(\"True\")\n",
    "        else:\n",
    "            blankList123.append(\"False\")\n",
    "            \n",
    "    return blankList123          \n",
    "\n",
    "\n",
    "\n",
    "# How many strings user need to add to list\n",
    "count34678=int(input(\"How many characters user will to add to list ::\"))\n",
    "my_list34556=[] \n",
    "for i in range(count34678):\n",
    "    userinput123=input(\"Enter the \"+str(i+1)+ \" character::\")\n",
    "    my_list34556.append(userinput123)\n",
    "print(f\"\\nThe list of characters added by user is {my_list34556}\\n\")\n",
    "print(f\" The vowel  inside the list is {Find_Vowels(my_list34556)}\")"
   ]
  }
 ],
 "metadata": {
  "kernelspec": {
   "display_name": "Python 3",
   "language": "python",
   "name": "python3"
  },
  "language_info": {
   "codemirror_mode": {
    "name": "ipython",
    "version": 3
   },
   "file_extension": ".py",
   "mimetype": "text/x-python",
   "name": "python",
   "nbconvert_exporter": "python",
   "pygments_lexer": "ipython3",
   "version": "3.7.3"
  }
 },
 "nbformat": 4,
 "nbformat_minor": 2
}
